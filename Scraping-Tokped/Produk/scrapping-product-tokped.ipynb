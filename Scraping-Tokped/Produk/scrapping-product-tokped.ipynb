{
 "cells": [
  {
   "cell_type": "code",
   "execution_count": 8,
   "id": "b0484382",
   "metadata": {},
   "outputs": [
    {
     "name": "stdout",
     "output_type": "stream",
     "text": [
      "Requirement already satisfied: selenium in c:\\users\\dell\\appdata\\local\\programs\\python\\python311\\lib\\site-packages (4.31.0)\n",
      "Requirement already satisfied: webdriver-manager in c:\\users\\dell\\appdata\\local\\programs\\python\\python311\\lib\\site-packages (4.0.2)\n",
      "Requirement already satisfied: beautifulsoup4 in c:\\users\\dell\\appdata\\local\\programs\\python\\python311\\lib\\site-packages (4.12.3)\n",
      "Requirement already satisfied: urllib3<3,>=1.26 in c:\\users\\dell\\appdata\\local\\programs\\python\\python311\\lib\\site-packages (from urllib3[socks]<3,>=1.26->selenium) (2.2.1)\n",
      "Requirement already satisfied: trio~=0.17 in c:\\users\\dell\\appdata\\local\\programs\\python\\python311\\lib\\site-packages (from selenium) (0.30.0)\n",
      "Requirement already satisfied: trio-websocket~=0.9 in c:\\users\\dell\\appdata\\local\\programs\\python\\python311\\lib\\site-packages (from selenium) (0.12.2)\n",
      "Requirement already satisfied: certifi>=2021.10.8 in c:\\users\\dell\\appdata\\local\\programs\\python\\python311\\lib\\site-packages (from selenium) (2024.2.2)\n",
      "Requirement already satisfied: typing_extensions~=4.9 in c:\\users\\dell\\appdata\\roaming\\python\\python311\\site-packages (from selenium) (4.11.0)\n",
      "Requirement already satisfied: websocket-client~=1.8 in c:\\users\\dell\\appdata\\local\\programs\\python\\python311\\lib\\site-packages (from selenium) (1.8.0)\n",
      "Requirement already satisfied: requests in c:\\users\\dell\\appdata\\local\\programs\\python\\python311\\lib\\site-packages (from webdriver-manager) (2.32.3)\n",
      "Requirement already satisfied: python-dotenv in c:\\users\\dell\\appdata\\local\\programs\\python\\python311\\lib\\site-packages (from webdriver-manager) (1.0.1)\n",
      "Requirement already satisfied: packaging in c:\\users\\dell\\appdata\\local\\programs\\python\\python311\\lib\\site-packages (from webdriver-manager) (24.0)\n",
      "Requirement already satisfied: soupsieve>1.2 in c:\\users\\dell\\appdata\\local\\programs\\python\\python311\\lib\\site-packages (from beautifulsoup4) (2.5)\n",
      "Requirement already satisfied: attrs>=23.2.0 in c:\\users\\dell\\appdata\\local\\programs\\python\\python311\\lib\\site-packages (from trio~=0.17->selenium) (23.2.0)\n",
      "Requirement already satisfied: sortedcontainers in c:\\users\\dell\\appdata\\local\\programs\\python\\python311\\lib\\site-packages (from trio~=0.17->selenium) (2.4.0)\n",
      "Requirement already satisfied: idna in c:\\users\\dell\\appdata\\local\\programs\\python\\python311\\lib\\site-packages (from trio~=0.17->selenium) (3.7)\n",
      "Requirement already satisfied: outcome in c:\\users\\dell\\appdata\\local\\programs\\python\\python311\\lib\\site-packages (from trio~=0.17->selenium) (1.3.0.post0)\n",
      "Requirement already satisfied: sniffio>=1.3.0 in c:\\users\\dell\\appdata\\local\\programs\\python\\python311\\lib\\site-packages (from trio~=0.17->selenium) (1.3.1)\n",
      "Requirement already satisfied: cffi>=1.14 in c:\\users\\dell\\appdata\\local\\programs\\python\\python311\\lib\\site-packages (from trio~=0.17->selenium) (1.16.0)\n",
      "Requirement already satisfied: wsproto>=0.14 in c:\\users\\dell\\appdata\\local\\programs\\python\\python311\\lib\\site-packages (from trio-websocket~=0.9->selenium) (1.2.0)\n",
      "Requirement already satisfied: pysocks!=1.5.7,<2.0,>=1.5.6 in c:\\users\\dell\\appdata\\local\\programs\\python\\python311\\lib\\site-packages (from urllib3[socks]<3,>=1.26->selenium) (1.7.1)\n",
      "Requirement already satisfied: charset-normalizer<4,>=2 in c:\\users\\dell\\appdata\\local\\programs\\python\\python311\\lib\\site-packages (from requests->webdriver-manager) (3.3.2)\n",
      "Requirement already satisfied: pycparser in c:\\users\\dell\\appdata\\local\\programs\\python\\python311\\lib\\site-packages (from cffi>=1.14->trio~=0.17->selenium) (2.22)\n",
      "Requirement already satisfied: h11<1,>=0.9.0 in c:\\users\\dell\\appdata\\local\\programs\\python\\python311\\lib\\site-packages (from wsproto>=0.14->trio-websocket~=0.9->selenium) (0.14.0)\n",
      "Note: you may need to restart the kernel to use updated packages.\n"
     ]
    }
   ],
   "source": [
    "%pip install selenium webdriver-manager beautifulsoup4"
   ]
  },
  {
   "cell_type": "code",
   "execution_count": 9,
   "id": "ac36f606",
   "metadata": {},
   "outputs": [],
   "source": [
    "from selenium import webdriver\n",
    "from selenium.webdriver.chrome.service import Service\n",
    "from selenium.webdriver.common.by import By\n",
    "from selenium.webdriver.chrome.options import Options\n",
    "import time\n"
   ]
  },
  {
   "cell_type": "code",
   "execution_count": 10,
   "id": "6d39c7d9",
   "metadata": {},
   "outputs": [],
   "source": [
    "def scrape_tokopedia(query):\n",
    "    options = Options()\n",
    "    # options.add_argument(\"--headless\")  # jalanin tanpa buka window\n",
    "    options.add_argument(\"--disable-gpu\")\n",
    "\n",
    "    driver = webdriver.Chrome(service=Service(), options=options)\n",
    "    url = f\"https://www.tokopedia.com/search?st=product&q={query.replace(' ', '%20')}\"\n",
    "    driver.get(url)\n",
    "\n",
    "    time.sleep(5) \n",
    "\n",
    "    results = []\n",
    "\n",
    "    cards = driver.find_elements(By.CSS_SELECTOR, 'a[data-theme=\"default\"]')[:4]  \n",
    "    for card in cards:\n",
    "        try:\n",
    "            link = card.get_attribute('href')\n",
    "            \n",
    "            # Nama toko\n",
    "            try:\n",
    "                toko = card.find_element(By.CSS_SELECTOR, 'span[class*=\"T0rpy-LEw\"]').text\n",
    "            except:\n",
    "                toko = \"Unknown\"\n",
    "                if link:\n",
    "                    temp = link.replace(\"https://www.tokopedia.com/\", \"\")\n",
    "                    toko = temp.split(\"/\", 1)[0]\n",
    "                    toko = toko.replace(\"-\", \" \")\n",
    "            \n",
    "            # Nama produk\n",
    "            try:\n",
    "                nama_produk = card.find_element(By.CSS_SELECTOR, 'span[class*=\"0T8-iGxMp\"]').text\n",
    "            except:\n",
    "                nama_produk = query\n",
    "                if link:\n",
    "                    temp = link.replace(f\"https://www.tokopedia.com/{toko}/\", \"\")\n",
    "                    nama_produk = temp.replace(\"-\", \" \")\n",
    "\n",
    "            # Gambar\n",
    "            try:\n",
    "                image = card.find_element(By.TAG_NAME, 'img').get_attribute('src')\n",
    "            except:\n",
    "                image = \"Image\"\n",
    "\n",
    "            # Harga \n",
    "            try:\n",
    "                harga = card.find_element(By.CSS_SELECTOR, 'div[class*=\"67d6E1xDK\"]').text\n",
    "            except:\n",
    "                harga = \"Rp. -\"\n",
    "\n",
    "            results.append({\n",
    "                'Nama Produk': nama_produk,\n",
    "                'Harga': harga,\n",
    "                'Toko': toko,\n",
    "                'Gambar': image,\n",
    "                'Link': link\n",
    "            })\n",
    "        except Exception as e:\n",
    "            print(\"Error parsing card:\", e)\n",
    "            continue\n",
    "\n",
    "    driver.quit()\n",
    "    return results\n"
   ]
  },
  {
   "cell_type": "code",
   "execution_count": 13,
   "id": "53090959",
   "metadata": {},
   "outputs": [
    {
     "name": "stdout",
     "output_type": "stream",
     "text": [
      "{'Nama Produk': 'Apple iPhone 13 Garansi Resmi - 128GB 256GB 512GB - 128GB, Midnight Black', 'Harga': 'Rp8.349.000', 'Toko': 'ismile indonesia', 'Gambar': 'https://images.tokopedia.net/img/cache/200-square/VqbcmM/2024/8/15/e426b597-a171-4d23-9a93-87913ec825bf.png.webp?ect=4g', 'Link': 'https://www.tokopedia.com/ismile-indonesia/apple-iphone-13-garansi-resmi-128gb-256gb-512gb-128gb-midnight-black-8c030'}\n",
      "{'Nama Produk': 'Apple iPhone 13 128GB 256GB 512GB Garansi Resmi - 128GB, Midnight Black', 'Harga': 'Rp8.349.000', 'Toko': 'ismile indonesia', 'Gambar': 'https://images.tokopedia.net/img/cache/200-square/VqbcmM/2025/3/6/fb66a321-837f-4571-9c60-114d2e46ce32.jpg.webp?ect=4g', 'Link': 'https://www.tokopedia.com/ismile-indonesia/apple-iphone-13-128gb-256gb-512gb-garansi-resmi-128gb-midnight-black-6c20c'}\n",
      "{'Nama Produk': 'APPLE iPhone 13 128GB 256GB 512GB A15 Bionic CPU 6C / GPU 4C Resmi IBOX', 'Harga': 'Rp8.129.000', 'Toko': 'Collins Official', 'Gambar': 'https://images.tokopedia.net/img/cache/200-square/VqbcmM/2025/2/1/d1276391-b360-459b-84e3-3cb815586878.png.webp?ect=4g', 'Link': 'https://www.tokopedia.com/collinsofficial/apple-iphone-13-128gb-256gb-512gb-a15-bionic-cpu-6c-gpu-4c-resmi-ibox-midnight-black-128-gb-be0a3?extParam=ivf%3Dfalse%26keyword%3Diphone+13&src=topads'}\n",
      "{'Nama Produk': 'Apple Iphone 13 Garansi Resmi IBox Indonesia', 'Harga': 'Rp8.249.000', 'Toko': 'supergadget_NEW', 'Gambar': 'https://images.tokopedia.net/img/cache/200-square/VqbcmM/2024/9/30/94a7ff22-265d-4237-955d-7bfbf0cff475.jpg.webp?ect=4g', 'Link': 'https://www.tokopedia.com/supergadgettt/apple-iphone-13-garansi-resmi-ibox-indonesia-midnight-128gb-36a41?extParam=ivf%3Dfalse%26keyword%3Diphone+13&src=topads'}\n"
     ]
    }
   ],
   "source": [
    "input = \"Iphone 13\"\n",
    "hasil = scrape_tokopedia(input)\n",
    "for item in hasil:\n",
    "    print(item)"
   ]
  },
  {
   "cell_type": "code",
   "execution_count": 16,
   "id": "eeec92bf",
   "metadata": {},
   "outputs": [
    {
     "name": "stdout",
     "output_type": "stream",
     "text": [
      "Data berhasil disimpan ke scraping-product-Iphone-13.xlsx\n"
     ]
    }
   ],
   "source": [
    "import pandas as pd\n",
    "import re\n",
    "\n",
    "def save_to_excel(data, query):\n",
    "    clean_query = re.sub(r'[\\\\/*?:\"<>|]', \"\", query).strip().replace(\" \", \"-\")\n",
    "    filename = f\"scraping-product-{clean_query}.xlsx\"\n",
    "\n",
    "    df = pd.DataFrame(data)\n",
    "    df.to_excel(filename, index=False)\n",
    "    print(f\"Data berhasil disimpan ke {filename}\")\n",
    "\n",
    "save_to_excel(hasil, input)"
   ]
  }
 ],
 "metadata": {
  "kernelspec": {
   "display_name": "Python 3",
   "language": "python",
   "name": "python3"
  },
  "language_info": {
   "codemirror_mode": {
    "name": "ipython",
    "version": 3
   },
   "file_extension": ".py",
   "mimetype": "text/x-python",
   "name": "python",
   "nbconvert_exporter": "python",
   "pygments_lexer": "ipython3",
   "version": "3.11.8"
  }
 },
 "nbformat": 4,
 "nbformat_minor": 5
}
