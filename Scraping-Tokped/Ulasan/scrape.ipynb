{
 "cells": [
  {
   "cell_type": "code",
   "execution_count": 1,
   "metadata": {},
   "outputs": [],
   "source": [
    "from bs4 import BeautifulSoup\n",
    "from selenium import webdriver\n",
    "from selenium.webdriver.support.ui import WebDriverWait\n",
    "from selenium.webdriver.support import expected_conditions as EC\n",
    "from selenium.webdriver.common.by import By\n",
    "import time\n",
    "import pandas as pd"
   ]
  },
  {
   "cell_type": "code",
   "execution_count": 2,
   "metadata": {},
   "outputs": [],
   "source": [
    "url = \"https://www.tokopedia.com/xiaomi/official-xiaomi-redmi-13-8gb-128gb-8gb-256gb-kamera-108-mp-super-jernih-mediatek-helio-g91-ultra-33w-fast-charging-midnight-black-8-256gb-c5fe3\""
   ]
  },
  {
   "cell_type": "code",
   "execution_count": 4,
   "metadata": {},
   "outputs": [
    {
     "name": "stderr",
     "output_type": "stream",
     "text": [
      "C:\\Users\\MARCHEL RIANRA\\AppData\\Local\\Temp\\ipykernel_19936\\3369777676.py:10: DeprecationWarning: Call to deprecated method findAll. (Replaced by find_all) -- Deprecated since version 4.0.0.\n",
      "  containers = soup.findAll('article', attrs = {'class':'css-72zbc4'})\n"
     ]
    },
    {
     "name": "stdout",
     "output_type": "stream",
     "text": [
      "['Packing rapi barang aman sampai rumah. Produk realpict sesuai deskripsi. Masih segel dan original. Berfungsi dengan baik tanpa ada cacat.', 'segel dan resmi dari official xiaomi. fitur sangat memuaskan mengingat harganya dibawah 2 juta. spesifikasi ram 8/memori internal 256 gb dengan fersi android terbaru, chi... ', 'Barang sudah sampai dengan selamat ,kondisi masih segel dan barang utuh , cuma gak dikasih pencopot sim , untuk yang lainnya bagus berfungsi normal dan barang original ma... ', 'sempet kaget abang kurir nganter pas hujan², ngingetin langsung di unboxing kak takut kenapa² soal nya dus nya basah sedikit, allhamdulillah aman. kondisi hp masih disege... ', 'barang nya aman dan kebetulan ekspedisi nya lagi bagus kinerjanya. semua fungsi nya normal, cuma agak boros di batrenya aja, overall puas belanja disini. terimakasih', 'original.isi lengkap.dapat charge 33w.jelly case. pengukuran cepat. berfungsi dengan baik.', 'barang masih segel,  berfungsi dengan baik, datang selamat tanpa ada cacat sedikitpun,barang sesuai sangat memuaskan...', 'barang masih di segel, berfungsi dg baik respon pembeli cepat,', 'Harga affordable.\\nProduk sesuai dgn deskripsi dan pesanan.\\nPemrosesan pesanan cepat.\\nProduk dikemas dgn baik.\\nProduk berfungsi dgn sebagaimana mestinya.\\nIbu saya seneng.... ', 'Alhamdulillah barang sudah diterima dengan baik sesuai dengan pesanan,produk ORI Xiaomi barang masih disegel.jangan ragu belanja di official Xiaomi insya Allah amanah.pen... ', 'Packing rapi barang aman sampai rumah. Produk realpict sesuai deskripsi. Masih segel dan original. Berfungsi dengan baik tanpa ada cacat.', 'segel dan resmi dari official xiaomi. fitur sangat memuaskan mengingat harganya dibawah 2 juta. spesifikasi ram 8/memori internal 256 gb dengan fersi android terbaru, chi... ', 'Barang sudah sampai dengan selamat ,kondisi masih segel dan barang utuh , cuma gak dikasih pencopot sim , untuk yang lainnya bagus berfungsi normal dan barang original ma... ', 'sempet kaget abang kurir nganter pas hujan², ngingetin langsung di unboxing kak takut kenapa² soal nya dus nya basah sedikit, allhamdulillah aman. kondisi hp masih disege... ', 'barang nya aman dan kebetulan ekspedisi nya lagi bagus kinerjanya. semua fungsi nya normal, cuma agak boros di batrenya aja, overall puas belanja disini. terimakasih', 'original.isi lengkap.dapat charge 33w.jelly case. pengukuran cepat. berfungsi dengan baik.', 'barang masih segel,  berfungsi dengan baik, datang selamat tanpa ada cacat sedikitpun,barang sesuai sangat memuaskan...', 'barang masih di segel, berfungsi dg baik respon pembeli cepat,', 'Harga affordable.\\nProduk sesuai dgn deskripsi dan pesanan.\\nPemrosesan pesanan cepat.\\nProduk dikemas dgn baik.\\nProduk berfungsi dgn sebagaimana mestinya.\\nIbu saya seneng.... ', 'Alhamdulillah barang sudah diterima dengan baik sesuai dengan pesanan,produk ORI Xiaomi barang masih disegel.jangan ragu belanja di official Xiaomi insya Allah amanah.pen... ']\n"
     ]
    }
   ],
   "source": [
    "if url :\n",
    "    options = webdriver.ChromeOptions()\n",
    "    options.add_argument(\"--start-maximized\")\n",
    "    driver = webdriver.Chrome(options=options)\n",
    "    driver.get(url)\n",
    "\n",
    "    data = []\n",
    "    for i in range(0, 3):\n",
    "        soup = BeautifulSoup(driver.page_source, \"html.parser\")\n",
    "        containers = soup.findAll('article', attrs = {'class':'css-72zbc4'})\n",
    "\n",
    "        for container in containers:\n",
    "            try:\n",
    "                review = container.find('span', attrs = {'data-testid':'lblItemUlasan'}).text\n",
    "                data.append(\n",
    "                    (review)\n",
    "                )\n",
    "            except AttributeError:\n",
    "                continue\n",
    "        time.sleep(3)\n",
    "\n",
    "    print(data)\n",
    "    df = pd.DataFrame(data, columns=[\"Ulasan\"])\n",
    "    df.to_csv(\"Tokopedia.csv\", index=False)"
   ]
  },
  {
   "cell_type": "code",
   "execution_count": 6,
   "metadata": {},
   "outputs": [
    {
     "data": {
      "text/html": [
       "<div>\n",
       "<style scoped>\n",
       "    .dataframe tbody tr th:only-of-type {\n",
       "        vertical-align: middle;\n",
       "    }\n",
       "\n",
       "    .dataframe tbody tr th {\n",
       "        vertical-align: top;\n",
       "    }\n",
       "\n",
       "    .dataframe thead th {\n",
       "        text-align: right;\n",
       "    }\n",
       "</style>\n",
       "<table border=\"1\" class=\"dataframe\">\n",
       "  <thead>\n",
       "    <tr style=\"text-align: right;\">\n",
       "      <th></th>\n",
       "      <th>Ulasan</th>\n",
       "    </tr>\n",
       "  </thead>\n",
       "  <tbody>\n",
       "    <tr>\n",
       "      <th>0</th>\n",
       "      <td>Packing rapi barang aman sampai rumah. Produk ...</td>\n",
       "    </tr>\n",
       "    <tr>\n",
       "      <th>1</th>\n",
       "      <td>segel dan resmi dari official xiaomi. fitur sa...</td>\n",
       "    </tr>\n",
       "    <tr>\n",
       "      <th>2</th>\n",
       "      <td>Barang sudah sampai dengan selamat ,kondisi ma...</td>\n",
       "    </tr>\n",
       "    <tr>\n",
       "      <th>3</th>\n",
       "      <td>sempet kaget abang kurir nganter pas hujan², n...</td>\n",
       "    </tr>\n",
       "    <tr>\n",
       "      <th>4</th>\n",
       "      <td>barang nya aman dan kebetulan ekspedisi nya la...</td>\n",
       "    </tr>\n",
       "    <tr>\n",
       "      <th>5</th>\n",
       "      <td>original.isi lengkap.dapat charge 33w.jelly ca...</td>\n",
       "    </tr>\n",
       "    <tr>\n",
       "      <th>6</th>\n",
       "      <td>barang masih segel,  berfungsi dengan baik, da...</td>\n",
       "    </tr>\n",
       "    <tr>\n",
       "      <th>7</th>\n",
       "      <td>barang masih di segel, berfungsi dg baik respo...</td>\n",
       "    </tr>\n",
       "    <tr>\n",
       "      <th>8</th>\n",
       "      <td>Harga affordable.\\nProduk sesuai dgn deskripsi...</td>\n",
       "    </tr>\n",
       "    <tr>\n",
       "      <th>9</th>\n",
       "      <td>Alhamdulillah barang sudah diterima dengan bai...</td>\n",
       "    </tr>\n",
       "    <tr>\n",
       "      <th>10</th>\n",
       "      <td>Packing rapi barang aman sampai rumah. Produk ...</td>\n",
       "    </tr>\n",
       "    <tr>\n",
       "      <th>11</th>\n",
       "      <td>segel dan resmi dari official xiaomi. fitur sa...</td>\n",
       "    </tr>\n",
       "    <tr>\n",
       "      <th>12</th>\n",
       "      <td>Barang sudah sampai dengan selamat ,kondisi ma...</td>\n",
       "    </tr>\n",
       "    <tr>\n",
       "      <th>13</th>\n",
       "      <td>sempet kaget abang kurir nganter pas hujan², n...</td>\n",
       "    </tr>\n",
       "    <tr>\n",
       "      <th>14</th>\n",
       "      <td>barang nya aman dan kebetulan ekspedisi nya la...</td>\n",
       "    </tr>\n",
       "    <tr>\n",
       "      <th>15</th>\n",
       "      <td>original.isi lengkap.dapat charge 33w.jelly ca...</td>\n",
       "    </tr>\n",
       "    <tr>\n",
       "      <th>16</th>\n",
       "      <td>barang masih segel,  berfungsi dengan baik, da...</td>\n",
       "    </tr>\n",
       "    <tr>\n",
       "      <th>17</th>\n",
       "      <td>barang masih di segel, berfungsi dg baik respo...</td>\n",
       "    </tr>\n",
       "    <tr>\n",
       "      <th>18</th>\n",
       "      <td>Harga affordable.\\nProduk sesuai dgn deskripsi...</td>\n",
       "    </tr>\n",
       "    <tr>\n",
       "      <th>19</th>\n",
       "      <td>Alhamdulillah barang sudah diterima dengan bai...</td>\n",
       "    </tr>\n",
       "  </tbody>\n",
       "</table>\n",
       "</div>"
      ],
      "text/plain": [
       "                                               Ulasan\n",
       "0   Packing rapi barang aman sampai rumah. Produk ...\n",
       "1   segel dan resmi dari official xiaomi. fitur sa...\n",
       "2   Barang sudah sampai dengan selamat ,kondisi ma...\n",
       "3   sempet kaget abang kurir nganter pas hujan², n...\n",
       "4   barang nya aman dan kebetulan ekspedisi nya la...\n",
       "5   original.isi lengkap.dapat charge 33w.jelly ca...\n",
       "6   barang masih segel,  berfungsi dengan baik, da...\n",
       "7   barang masih di segel, berfungsi dg baik respo...\n",
       "8   Harga affordable.\\nProduk sesuai dgn deskripsi...\n",
       "9   Alhamdulillah barang sudah diterima dengan bai...\n",
       "10  Packing rapi barang aman sampai rumah. Produk ...\n",
       "11  segel dan resmi dari official xiaomi. fitur sa...\n",
       "12  Barang sudah sampai dengan selamat ,kondisi ma...\n",
       "13  sempet kaget abang kurir nganter pas hujan², n...\n",
       "14  barang nya aman dan kebetulan ekspedisi nya la...\n",
       "15  original.isi lengkap.dapat charge 33w.jelly ca...\n",
       "16  barang masih segel,  berfungsi dengan baik, da...\n",
       "17  barang masih di segel, berfungsi dg baik respo...\n",
       "18  Harga affordable.\\nProduk sesuai dgn deskripsi...\n",
       "19  Alhamdulillah barang sudah diterima dengan bai..."
      ]
     },
     "execution_count": 6,
     "metadata": {},
     "output_type": "execute_result"
    }
   ],
   "source": [
    "df"
   ]
  }
 ],
 "metadata": {
  "kernelspec": {
   "display_name": "Python 3",
   "language": "python",
   "name": "python3"
  },
  "language_info": {
   "codemirror_mode": {
    "name": "ipython",
    "version": 3
   },
   "file_extension": ".py",
   "mimetype": "text/x-python",
   "name": "python",
   "nbconvert_exporter": "python",
   "pygments_lexer": "ipython3",
   "version": "3.11.5"
  }
 },
 "nbformat": 4,
 "nbformat_minor": 2
}
